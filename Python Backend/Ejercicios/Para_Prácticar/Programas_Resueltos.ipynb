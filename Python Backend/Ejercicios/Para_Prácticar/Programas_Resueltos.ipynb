{
 "cells": [
  {
   "cell_type": "markdown",
   "metadata": {},
   "source": [
    "### ¡Importante: !Los ejercicios que resolví no tienen como objetivo encontrar el método más óptimo, sino explorar y experimentar con las diversas funcionalidades del lenguaje."
   ]
  },
  {
   "cell_type": "markdown",
   "metadata": {},
   "source": [
    "# Nivel 1: Baby Python\n"
   ]
  },
  {
   "cell_type": "markdown",
   "metadata": {},
   "source": [
    "### Ejercicio 1: Hola mundo\n",
    "\n",
    "Escribir un programa que almacene la cadena ¡Hola Mundo! en una variable y luego muestre por pantalla el contenido de la variable.\n"
   ]
  },
  {
   "cell_type": "code",
   "execution_count": 8,
   "metadata": {},
   "outputs": [
    {
     "name": "stdout",
     "output_type": "stream",
     "text": [
      "¡Hola Mundo!\n"
     ]
    }
   ],
   "source": [
    "variable = '¡Hola Mundo!'\n",
    "print(variable)"
   ]
  },
  {
   "cell_type": "markdown",
   "metadata": {},
   "source": [
    "### Ejercicio 2: Entradas por consola\n",
    "\n",
    "Escribir un programa que pregunte el nombre del usuario en la consola y después de que el usuario lo introduzca muestre por pantalla la cadena ¡Hola ``<nombre>``!, donde ``<nombre>`` es el nombre que el usuario haya introducido."
   ]
  },
  {
   "cell_type": "code",
   "execution_count": 9,
   "metadata": {},
   "outputs": [
    {
     "name": "stdout",
     "output_type": "stream",
     "text": [
      "¡Hola Gil!\n"
     ]
    }
   ],
   "source": [
    "nombre = input('Ingresa tu nombre: ')\n",
    "print(f'¡Hola {nombre}!')"
   ]
  },
  {
   "cell_type": "markdown",
   "metadata": {},
   "source": [
    "### Ejercicio 3: Aprendiendo a contar\n",
    "\n",
    "Escribir un programa que pregunte el nombre del usuario en la consola y después de que el usuario lo introduzca muestre por pantalla ``<NOMBRE>`` tiene ``<n>`` letras, donde ``<NOMBRE>`` es el nombre de usuario en mayúsculas y ``<n>`` es el número de letras que tienen el nombre.\n",
    "\n"
   ]
  },
  {
   "cell_type": "code",
   "execution_count": 5,
   "metadata": {},
   "outputs": [
    {
     "name": "stdout",
     "output_type": "stream",
     "text": [
      "¡Hola GILBERTO, tu nombre tiene 8 caracteres!\n"
     ]
    }
   ],
   "source": [
    "nombre = input('Ingresa tu nombre: ')\n",
    "print(f'¡Hola {nombre.upper()}, tu nombre tiene {len(nombre)} caracteres!')"
   ]
  },
  {
   "cell_type": "markdown",
   "metadata": {},
   "source": [
    "### Ejercicio 4: Al revés\n",
    "\n",
    "Escribir un programa que pida al usuario que introduzca una frase en la consola y muestre por pantalla la frase invertida."
   ]
  },
  {
   "cell_type": "code",
   "execution_count": 65,
   "metadata": {},
   "outputs": [
    {
     "name": "stdout",
     "output_type": "stream",
     "text": [
      "s\n",
      "o\n",
      "d\n",
      "o\n",
      "t\n",
      " \n",
      "a\n",
      " \n",
      "a\n",
      "l\n",
      "o\n",
      "H\n"
     ]
    }
   ],
   "source": [
    "frase = input('Ingresa una frase: ')\n",
    "\n",
    "for letra in reversed(frase):\n",
    "    print(letra)"
   ]
  },
  {
   "cell_type": "markdown",
   "metadata": {},
   "source": [
    "### Ejercicio 5: Horas trabajadas\n",
    "\n",
    "Escribir un programa que pregunte al usuario por el número de horas trabajadas y el coste por hora. Después debe mostrar por pantalla la paga que le corresponde."
   ]
  },
  {
   "cell_type": "code",
   "execution_count": 32,
   "metadata": {},
   "outputs": [
    {
     "name": "stdout",
     "output_type": "stream",
     "text": [
      "Tu paga es 500\n"
     ]
    }
   ],
   "source": [
    "horas = int(input('Ingresa el número de horas trabajadas: '))\n",
    "coste = int(input('Ingresa el coste por hora trabajada: '))\n",
    "\n",
    "print(f'Tu paga es {horas * coste}')"
   ]
  },
  {
   "cell_type": "markdown",
   "metadata": {},
   "source": [
    "### Ejercicio 6: IMC\n",
    "\n",
    "Escribir un programa que pida al usuario su peso (en kg) y estatura (en metros), calcule el índice de masa corporal y lo almacene en una variable, y muestre por pantalla la frase Tu índice de masa corporal es ``<imc>`` donde ``<imc>`` es el índice de masa corporal calculado redondeado con dos decimales."
   ]
  },
  {
   "cell_type": "code",
   "execution_count": 47,
   "metadata": {},
   "outputs": [
    {
     "name": "stdout",
     "output_type": "stream",
     "text": [
      "Tu indice de masa corporal es: 51.88\n"
     ]
    }
   ],
   "source": [
    "peso = float(input('Ingresa tu peso en kilogramos: '))\n",
    "estatura = float(input('Ingresa tu estatura en metros: '))\n",
    "\n",
    "# Formula: Indice de Masa Corporal\n",
    "imc = peso / estatura\n",
    "\n",
    "print(f'Tu indice de masa corporal es: {round(imc, 2)}')"
   ]
  },
  {
   "cell_type": "code",
   "execution_count": 46,
   "metadata": {},
   "outputs": [
    {
     "name": "stdout",
     "output_type": "stream",
     "text": [
      "Tu indice de masa corporal es: 51.88\n"
     ]
    }
   ],
   "source": [
    "# Extra: Versión Truncada\n",
    "\n",
    "import math\n",
    "\n",
    "peso = float(input('Ingresa tu peso en kilogramos: '))\n",
    "estatura = float(input('Ingresa tu estatura en metros: '))\n",
    "\n",
    "imc = peso / estatura\n",
    "\n",
    "imc_truncado = math.trunc(imc * 100) / 100\n",
    "\n",
    "print(f'Tu indice de masa corporal es: {imc_truncado}')"
   ]
  },
  {
   "cell_type": "markdown",
   "metadata": {},
   "source": [
    "### Ejercicio 7: Inversor\n",
    "\n",
    "Escribir un programa que pregunte al usuario una cantidad a invertir, el interés anual y el número de años, y muestre por pantalla el capital obtenido en la inversión."
   ]
  },
  {
   "cell_type": "code",
   "execution_count": 51,
   "metadata": {},
   "outputs": [
    {
     "name": "stdout",
     "output_type": "stream",
     "text": [
      "Tu capital final obtenido es: 96.0\n"
     ]
    }
   ],
   "source": [
    "cantidad = float(input('Ingresa la cantidad a invertir: '))\n",
    "interes = float(input('Ingresa el interes anual: '))\n",
    "años = float(input('Ingresa el número de años: '))\n",
    "\n",
    "# Formula: Interes simple\n",
    "capital = cantidad * interes * años\n",
    "\n",
    "print(f'Tu capital final obtenido es: {capital}')\n"
   ]
  },
  {
   "cell_type": "markdown",
   "metadata": {},
   "source": [
    "### Ejercicio 8: Juguetería\n",
    "\n",
    "Una juguetería tiene mucho éxito en dos de sus productos: payasos y muñecas. Suele hacer venta por correo y la empresa de logística les cobra por peso de cada paquete así que deben calcular el peso de los payasos y muñecas que saldrán en cada paquete a demanda. Cada payaso pesa 112 g y cada muñeca 75 g. Escribir un programa que lea el número de payasos y muñecas vendidos en el último pedido y calcule el peso total del paquete que será enviado."
   ]
  },
  {
   "cell_type": "code",
   "execution_count": 54,
   "metadata": {},
   "outputs": [
    {
     "name": "stdout",
     "output_type": "stream",
     "text": [
      "El peso total del paquete es: 785 g\n"
     ]
    }
   ],
   "source": [
    "payasos = int(input('Ingresa el número de payasos vendidos: '))\n",
    "muñecas = int(input('Ingresa el número de muñecas vendidas: '))\n",
    "\n",
    "peso = (payasos * 112) + (muñecas * 75)\n",
    "\n",
    "print(f'El peso total del paquete es: {peso} g')"
   ]
  },
  {
   "cell_type": "markdown",
   "metadata": {},
   "source": [
    "### Ejercicio 9: Conociendo las listas\n",
    "\n",
    "Ingresa los valores del 1 al 100 en una lista."
   ]
  },
  {
   "cell_type": "code",
   "execution_count": 60,
   "metadata": {},
   "outputs": [
    {
     "name": "stdout",
     "output_type": "stream",
     "text": [
      "[1, 2, 3, 4, 5, 6, 7, 8, 9, 10, 11, 12, 13, 14, 15, 16, 17, 18, 19, 20, 21, 22, 23, 24, 25, 26, 27, 28, 29, 30, 31, 32, 33, 34, 35, 36, 37, 38, 39, 40, 41, 42, 43, 44, 45, 46, 47, 48, 49, 50, 51, 52, 53, 54, 55, 56, 57, 58, 59, 60, 61, 62, 63, 64, 65, 66, 67, 68, 69, 70, 71, 72, 73, 74, 75, 76, 77, 78, 79, 80, 81, 82, 83, 84, 85, 86, 87, 88, 89, 90, 91, 92, 93, 94, 95, 96, 97, 98, 99, 100]\n"
     ]
    }
   ],
   "source": [
    "lista = []\n",
    "\n",
    "for i in range(100):\n",
    "    lista.append(i + 1)\n",
    "\n",
    "print(lista)"
   ]
  },
  {
   "cell_type": "markdown",
   "metadata": {},
   "source": [
    "### Ejercicio 10: Diccionario Español – Inglés PENDIENTE\n",
    "\n",
    "Crea un diccionario vacio y cargalo conforme el usuario vaya ingresando lo siguiente: una palabra en español y su traducción al inglés. En pocas palabras, crea tu propio diccionario de palabras en español-inglés.\n",
    "\n",
    "Mínimo 25 palabras.\n",
    "\n",
    "Eres libre de añadir lo que gustes, puedes incluir estadísticas como cuantos elementos contiene el diccionario, puedes hacer menús, darle un formato, lo que tu gustes, demuestra la mayor cantidad de integraciones posibles en base a los conocimientos que hemos adquirido hasta el momento."
   ]
  },
  {
   "cell_type": "code",
   "execution_count": null,
   "metadata": {},
   "outputs": [],
   "source": [
    "diccionario = []"
   ]
  },
  {
   "cell_type": "markdown",
   "metadata": {},
   "source": [
    "# Nivel 2: Entusiasta\n",
    "\n",
    "### Ejercicio 11: Cuenta de ahorros\n",
    "\n",
    "Imagina que acabas de abrir una nueva cuenta de ahorros que te ofrece el 4% de interés al año. Estos ahorros debido a intereses, que no se cobran hasta finales de año, se te añaden al balance final de tu cuenta de ahorros. Escribir un programa que comience leyendo la cantidad de dinero depositada en la cuenta de ahorros, introducida por el usuario. Después el programa debe calcular y mostrar por pantalla la cantidad de ahorros tras el primer, segundo y tercer años. Redondear cada cantidad a dos decimales."
   ]
  },
  {
   "cell_type": "code",
   "execution_count": 70,
   "metadata": {},
   "outputs": [
    {
     "name": "stdout",
     "output_type": "stream",
     "text": [
      "El ahorro total del año 1 es: 104.0\n",
      "El ahorro total del año 2 es: 108.16\n",
      "El ahorro total del año 3 es: 112.4864\n"
     ]
    }
   ],
   "source": [
    "dinero = float(input('Ingresa la cantidad de dinero depositada en la cuenta de ahorros: '))\n",
    "\n",
    "for i in range(3):\n",
    "    dinero = dinero * 1.04\n",
    "    print(f'El ahorro total del año {i+1} es: {dinero}')"
   ]
  },
  {
   "cell_type": "markdown",
   "metadata": {},
   "source": [
    "### Ejercicio 12: Panaderia\n",
    "\n",
    "Una panadería vende barras de pan a 3.49€ cada una. El pan que no es del día tiene un descuento del 60%. Escribir un programa que comience leyendo el número de barras vendidas que no son del día. Después el programa debe mostrar el precio habitual de una barra de pan, el descuento que se le hace por no ser fresca y el coste final total."
   ]
  },
  {
   "cell_type": "code",
   "execution_count": 94,
   "metadata": {},
   "outputs": [
    {
     "name": "stdout",
     "output_type": "stream",
     "text": [
      "Precio habitual de una barra de pan: 3.49€\n",
      "Descuento a aplicar: 2.09€\n",
      "Coste total del pedido: 1.4€\n"
     ]
    }
   ],
   "source": [
    "panes = int(input('Ingresa la cantidad de barras de pan que no son del día: '))\n",
    "\n",
    "precio = 3.49\n",
    "descuento = precio * 0.6\n",
    "\n",
    "print(f'Precio habitual de una barra de pan: {precio}€')\n",
    "print(f'Descuento a aplicar: {round(panes * descuento, 2)}€')\n",
    "print(f'Coste total del pedido: {round(panes * (precio - descuento), 2)}€')"
   ]
  },
  {
   "cell_type": "markdown",
   "metadata": {},
   "source": [
    "### Ejercicio 13: Facturación e IVA\n",
    "\n",
    "Utilizando una función, calcule el total de una factura tras aplicarle el IVA. La función debe recibir la cantidad sin IVA y el porcentaje de IVA a aplicar, y devolver el total de la factura. Si se invoca la función sin pasarle el porcentaje de IVA, deberá aplicarse un 10%."
   ]
  },
  {
   "cell_type": "code",
   "execution_count": 34,
   "metadata": {},
   "outputs": [
    {
     "name": "stdout",
     "output_type": "stream",
     "text": [
      "120.0\n",
      "110.0\n"
     ]
    }
   ],
   "source": [
    "def factura(cantidad, porcentaje = 0):\n",
    "    resultado = cantidad + (cantidad * porcentaje if porcentaje != 0 else cantidad * 0.10)\n",
    "    return resultado\n",
    "\n",
    "print(factura(100, .20))\n",
    "print(factura(100))"
   ]
  },
  {
   "cell_type": "markdown",
   "metadata": {},
   "source": [
    "### Ejercicio 14: El cilindro\n",
    "\n",
    "Necesitamos calcular el volumen de un cilindro utilizando primero el resultado de calcular el área de la base, para ello te solicitamos lo hagas creando 2 funciones manejando el resultado final en base a con la primera función obtener el área y que la segunda opere en base al resultado de la primera. No puedes llamar a las 2 funciones en la linea fuera de la declaración de estas, solo puedes llamar a una."
   ]
  },
  {
   "cell_type": "code",
   "execution_count": 11,
   "metadata": {},
   "outputs": [
    {
     "name": "stdout",
     "output_type": "stream",
     "text": [
      "188.49599999999998\n"
     ]
    }
   ],
   "source": [
    "# Pi * r ** 2\n",
    "def area_total_del_circulo(radio):\n",
    "    resultado = 3.1416 * (radio ** 2)\n",
    "    return resultado\n",
    "\n",
    "# (2 * Pi * r ** 2) + 2 * Pi * r * h\n",
    "def area_del_cilindro(radio, altura):\n",
    "    area_base = area_total_del_circulo(radio)\n",
    "    resultado = (2 * area_base) + (2 * 3.1416 * radio * altura)\n",
    "    return resultado\n",
    "\n",
    "print(area_del_cilindro(3, 7))\n"
   ]
  },
  {
   "cell_type": "markdown",
   "metadata": {},
   "source": [
    "### Ejercicio 15: ¿+18? Ok pasa\n",
    "\n",
    "Escribir un programa que pregunte al usuario su edad y muestre por pantalla si es mayor de edad o no."
   ]
  },
  {
   "cell_type": "code",
   "execution_count": 14,
   "metadata": {},
   "outputs": [
    {
     "name": "stdout",
     "output_type": "stream",
     "text": [
      "Eres mayor de edad\n"
     ]
    }
   ],
   "source": [
    "edad = int(input('Ingresa tu edad: '))\n",
    "\n",
    "if (edad >= 18):\n",
    "    print('Eres mayor de edad')\n",
    "else:\n",
    "    print('No eres mayor de edad')"
   ]
  },
  {
   "cell_type": "markdown",
   "metadata": {},
   "source": [
    "### Ejercicio 16: contraseña123\n",
    "\n",
    "Escribir un programa que almacene la cadena de caracteres ``contraseña`` en una variable, pregunte al usuario por la contraseña e imprima por pantalla si la contraseña introducida por el usuario coincide con la guardada en la variable sin tener en cuenta mayúsculas y minúsculas."
   ]
  },
  {
   "cell_type": "code",
   "execution_count": 16,
   "metadata": {},
   "outputs": [
    {
     "name": "stdout",
     "output_type": "stream",
     "text": [
      "La contraseña es incorrecta\n"
     ]
    }
   ],
   "source": [
    "contraseña_A = input('Ingresa una contraseña')\n",
    "contraseña_B = input('Para verificar tu contraseña, ingresala otra vez: ')\n",
    "\n",
    "if (contraseña_A.lower() == contraseña_B.lower()):\n",
    "    print('La contraseña es correcta')\n",
    "else:\n",
    "    print('La contraseña es incorrecta')"
   ]
  },
  {
   "cell_type": "markdown",
   "metadata": {},
   "source": [
    "### Ejercicio 17: Divisor\n",
    "\n",
    "Escribir un programa que pida al usuario dos números y muestre por pantalla su división. Si el divisor es cero el programa debe mostrar un error."
   ]
  },
  {
   "cell_type": "code",
   "execution_count": 25,
   "metadata": {},
   "outputs": [
    {
     "name": "stdout",
     "output_type": "stream",
     "text": [
      "7.0 / 6.0 = 1.1666666666666667\n"
     ]
    }
   ],
   "source": [
    "divisor = float(input('Ingresa un número: '))\n",
    "dividendo = float(input('Ingresa otro número: '))\n",
    "\n",
    "if (divisor == 0):\n",
    "    print('Error de calculo...')\n",
    "else:\n",
    "    resultado = divisor / dividendo\n",
    "    print(f'{divisor} / {dividendo} = {resultado}')"
   ]
  },
  {
   "cell_type": "code",
   "execution_count": 23,
   "metadata": {},
   "outputs": [
    {
     "name": "stdout",
     "output_type": "stream",
     "text": [
      "Error de calculo...\n"
     ]
    }
   ],
   "source": [
    "# Extra\n",
    "\n",
    "divisor = float(input('Ingresa un número: '))\n",
    "dividendo = float(input('Ingresa otro número: '))\n",
    "\n",
    "try:\n",
    "    resultado = divisor / dividendo\n",
    "    print(f'{divisor} / {dividendo} = {resultado}')\n",
    "except:\n",
    "    print('Error de calculo...')\n",
    "\n"
   ]
  },
  {
   "cell_type": "markdown",
   "metadata": {},
   "source": [
    "### Ejercicio 18: ¿Par o impar?\n",
    "\n",
    "Escribir un programa que pida al usuario un número entero y muestre por pantalla si es par o impar."
   ]
  },
  {
   "cell_type": "code",
   "execution_count": null,
   "metadata": {},
   "outputs": [
    {
     "name": "stdout",
     "output_type": "stream",
     "text": [
      "El 7.0 es impar\n"
     ]
    }
   ],
   "source": [
    "numero = float(input('Ingresa un número'))\n",
    "\n",
    "# % Obtiene el resto\n",
    "if numero % 2 == 0:\n",
    "    print(f'El {numero} es par')\n",
    "else:\n",
    "    print(f'El {numero} es impar')"
   ]
  },
  {
   "cell_type": "markdown",
   "metadata": {},
   "source": [
    "### Ejercicio 19: Contribuyente\n",
    "\n",
    "Para tributar un determinado impuesto se debe ser mayor de 18 años y tener unos ingresos iguales o superiores a 30000 MXN mensuales. Escribir un programa que pregunte al usuario su edad y sus ingresos mensuales y muestre por pantalla si el usuario tiene que tributar o no."
   ]
  },
  {
   "cell_type": "code",
   "execution_count": 3,
   "metadata": {},
   "outputs": [
    {
     "name": "stdout",
     "output_type": "stream",
     "text": [
      "Tienes que tributar impuestos\n"
     ]
    }
   ],
   "source": [
    "edad = int(input('Ingresa tu edad: '))\n",
    "ingresos = float(input('Ingresa tus ingresos mesuales: '))\n",
    "\n",
    "if (edad >= 18 and ingresos >= 30000):\n",
    "    print('Tienes que tributar impuestos')\n",
    "else:\n",
    "    print('No tienes que tributar')"
   ]
  },
  {
   "cell_type": "markdown",
   "metadata": {},
   "source": [
    "### Ejercicio 20: Grupos escolares\n",
    "\n",
    "Los alumnos de un curso se han dividido en dos grupos A y B de acuerdo al sexo y el nombre. El grupo A esta formado por las mujeres con un nombre anterior a la M y los hombres con un nombre posterior a la N y el grupo B por el resto. Escribir un programa que pregunte al usuario su nombre y sexo, y muestre por pantalla el grupo que le corresponde."
   ]
  },
  {
   "cell_type": "code",
   "execution_count": null,
   "metadata": {},
   "outputs": [
    {
     "name": "stdout",
     "output_type": "stream",
     "text": [
      "Eres Hombre\n"
     ]
    }
   ],
   "source": [
    "nombre = input('Ingresa tu nombre: ')\n",
    "sexo = input('Ingresa tu sexo: Masculino o Femenino: ')\n",
    "\n",
    "if (sexo.lower() == 'femenino'):\n",
    "    print('Perteneces al grupo A')\n",
    "elif (sexo.lower() == 'masculino'):\n",
    "    print('Perteneces al grupo B')"
   ]
  }
 ],
 "metadata": {
  "kernelspec": {
   "display_name": "Python 3",
   "language": "python",
   "name": "python3"
  },
  "language_info": {
   "codemirror_mode": {
    "name": "ipython",
    "version": 3
   },
   "file_extension": ".py",
   "mimetype": "text/x-python",
   "name": "python",
   "nbconvert_exporter": "python",
   "pygments_lexer": "ipython3",
   "version": "3.12.1"
  }
 },
 "nbformat": 4,
 "nbformat_minor": 2
}
